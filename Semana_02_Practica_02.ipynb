{
  "nbformat": 4,
  "nbformat_minor": 0,
  "metadata": {
    "colab": {
      "provenance": []
    },
    "kernelspec": {
      "name": "python3",
      "display_name": "Python 3"
    },
    "language_info": {
      "name": "python"
    }
  },
  "cells": [
    {
      "cell_type": "markdown",
      "source": [
        "# Práctica 02\n",
        "\n",
        "Relacionada a la lectura y escritura de archivos."
      ],
      "metadata": {
        "id": "7lnzhHZRzGkp"
      }
    },
    {
      "cell_type": "markdown",
      "source": [
        "# Ejercicio 01\n",
        "\n",
        "Crear un script que lea el archivo `/content/sample_data/README.md` y cuenta la cantidad de letras. Tener en cuenta que hay letras que están en mayúscula y otras en minúsculas.\n",
        "\n",
        "Mostrar una tabla con la letra y la cantidad de veces que se repite. No se deben mostrar letras que no existan en el texto."
      ],
      "metadata": {
        "id": "8DeZ7SXu0vfR"
      }
    },
    {
      "cell_type": "code",
      "source": [
        "!pip install tabulate\n",
        "from tabulate import tabulate"
      ],
      "metadata": {
        "id": "sMXQFLgcEbKz"
      },
      "execution_count": null,
      "outputs": []
    },
    {
      "cell_type": "code",
      "source": [
        "# leo el archivo\n",
        "archivo_md = \"/content/sample_data/README.md\"\n",
        "with open(archivo_md) as r:\n",
        "  texto_md = r.read()\n",
        "# creo un diccionario para guardar las repeticiones\n",
        "repeticiones = {}\n",
        "# recorro el texto\n",
        "for caracter in texto_md:\n",
        "  if caracter in repeticiones:\n",
        "    # el caracter ya se encuentra en el diccionario\n",
        "    repeticiones[caracter] += 1\n",
        "  else:\n",
        "    # el caracter NO se encuentra en el diccionario y lo inicializo en 1\n",
        "    repeticiones[caracter] = 1\n",
        "# ordeno los caracteres y muestro con la salvedad del enter y el espacio\n",
        "tabla = []\n",
        "for caracter in sorted(repeticiones.keys()):\n",
        "  if caracter == \"\\n\":\n",
        "    tabla.append([\"enter\", repeticiones[caracter]])\n",
        "  elif caracter == \" \":\n",
        "    tabla.append([\"espacio\", repeticiones[caracter]])\n",
        "  else:\n",
        "    tabla.append([caracter, repeticiones[caracter]])\n",
        "print(tabulate(tabular_data=tabla, headers=[\"Caracter\", \"Cantidad\"]))"
      ],
      "metadata": {
        "id": "gKK9OHh4Ef06"
      },
      "execution_count": null,
      "outputs": []
    },
    {
      "cell_type": "markdown",
      "source": [
        "# Ejercicio 02\n",
        "\n",
        "Crear un script que lea el archivo `/content/sample_data/anscombe.json` y guarde en un nuevo archivo los objetos que se encuentran en las posiciones pares."
      ],
      "metadata": {
        "id": "pGtbL9dk2JSp"
      }
    },
    {
      "cell_type": "code",
      "source": [
        "from json import load, dump\n",
        "archivo_json = \"/content/sample_data/anscombe.json\"\n",
        "# leo el archivo\n",
        "with open(archivo_json) as r:\n",
        "  objetos_json = load(r)\n",
        "# elimino las posiciones impares\n",
        "nuevos_objetos_json = \\\n",
        "  [objeto for posicion,objeto in enumerate(objetos_json) if posicion % 2 != 0]\n",
        "# escribo el nuevo archivo\n",
        "archivo_nuevo_json = \"/content/sample_data/anscombe.nuevo.json\"\n",
        "with open(archivo_nuevo_json, \"w\") as w:\n",
        "  dump(nuevos_objetos_json, w)\n",
        "\n"
      ],
      "metadata": {
        "id": "Pz1mwLolHLv8"
      },
      "execution_count": null,
      "outputs": []
    },
    {
      "cell_type": "markdown",
      "source": [
        "# Ejercicio 03\n",
        "\n",
        "Crear un script que lea el archivo `/content/sample_data/california_housing_test.csv` y genere un nuevo archivo donde la columna `housing_median_age` es igual a 30."
      ],
      "metadata": {
        "id": "NctoAFVc391b"
      }
    },
    {
      "cell_type": "code",
      "source": [
        "from csv import reader, writer\n",
        "\n",
        "archivo_csv = \"/content/sample_data/california_housing_test.csv\"\n",
        "# leo el archivo\n",
        "with open(archivo_csv) as r:\n",
        "  matriz_csv = list(reader(r))\n",
        "# guardo la cabecera y la elimino de la lista de datos\n",
        "cabecera_titulos = matriz_csv[0]\n",
        "matriz_csv.pop(0)\n",
        "# elimino las filas donde housing_median_age sea distinto de 30\n",
        "nuevas_filas_csv = \\\n",
        "  [fila for fila in matriz_csv if float(fila[2]) == 30.]\n",
        "# escribo el nuevo archivo\n",
        "archivo_nuevo_csv = \"/content/sample_data/california_housing_test.nuevo.csv\"\n",
        "with open(archivo_nuevo_csv, \"w\") as w:\n",
        "  descriptor_csv = writer(w)\n",
        "  descriptor_csv.writerows([cabecera_titulos]+nuevas_filas_csv)"
      ],
      "metadata": {
        "id": "05mHOIeoJL0m"
      },
      "execution_count": null,
      "outputs": []
    },
    {
      "cell_type": "markdown",
      "source": [
        "# Ejercicio 04\n",
        "\n",
        "Crear un script que lea el archivo `/content/sample_data/mnist_test.csv` y genere un nuevo archivo donde la fila seleccionada para grabar debe poseer el número 253 solo 3 veces en toda la fila."
      ],
      "metadata": {
        "id": "RqHGu4c87TDZ"
      }
    },
    {
      "cell_type": "code",
      "source": [
        "from csv import reader, writer\n",
        "\n",
        "archivo_csv_253 = \"/content/sample_data/mnist_test.csv\"\n",
        "# leo el archivo\n",
        "with open(archivo_csv_253) as r:\n",
        "  matriz_csv_253 = list(reader(r))\n",
        "# guardo la cabecera y la elimino de la lista de datos\n",
        "cabecera_titulos_253 = matriz_csv_253[0]\n",
        "matriz_csv_253.pop(0)\n",
        "# elimino las filas donde la cantidad de veces que aparece el número 253 sea\n",
        "# distinto de 3\n",
        "nuevas_filas_csv_253 = \\\n",
        "  [fila for fila in matriz_csv_253 if fila.count(\"253\") == 3]\n",
        "# escribo el nuevo archivo\n",
        "archivo_nuevo_csv_253 = \"/content/sample_data/mnist_test.nuevo.csv\"\n",
        "with open(archivo_nuevo_csv_253, \"w\") as w:\n",
        "  descriptor_csv = writer(w)\n",
        "  descriptor_csv.writerows([cabecera_titulos_253]+nuevas_filas_csv_253)"
      ],
      "metadata": {
        "id": "79Fx8CbXM7KU"
      },
      "execution_count": null,
      "outputs": []
    },
    {
      "cell_type": "markdown",
      "source": [
        "# Ejercicio 05\n",
        "\n",
        "Crear un script que lea el archivo `/content/sample_data/anscombe.json`, transformarlo a csv, ini, yml y guardarlos en nuevos archivos.\n"
      ],
      "metadata": {
        "id": "hj1yCfGa7205"
      }
    },
    {
      "cell_type": "code",
      "source": [
        "from json import load\n",
        "\n",
        "# leo el archivo\n",
        "archivo_base = \"/content/sample_data/anscombe.json\"\n",
        "with open(archivo_base) as r:\n",
        "  objetos_transformacion = load(r)\n"
      ],
      "metadata": {
        "id": "g9B1pLgCSEA7"
      },
      "execution_count": null,
      "outputs": []
    },
    {
      "cell_type": "code",
      "source": [
        "from csv import reader, writer\n",
        "\n",
        "# transformaición a csv\n",
        "cabecera_csv_transformacion = [[k for k in objetos_transformacion[0].keys()]]\n",
        "tabla_csv_transformacion = [[valor for valor in objeto.values()] for objeto in objetos_transformacion]\n",
        "# escritura del nuevo archivo\n",
        "archivo_nuevo_transformacion_csv = \"/content/sample_data/anscombe.transformacion.nuevo.csv\"\n",
        "with open(archivo_nuevo_transformacion_csv, \"w\") as w:\n",
        "  descriptor_csv = writer(w)\n",
        "  descriptor_csv.writerows(cabecera_csv_transformacion+tabla_csv_transformacion)"
      ],
      "metadata": {
        "id": "ZE0CvfHgTm-N"
      },
      "execution_count": null,
      "outputs": []
    },
    {
      "cell_type": "code",
      "source": [
        "from configparser import ConfigParser\n",
        "# transformaición a ini\n",
        "tabla_ini_transformacion = {f\"Dato_{posicion:02d}\":objeto for posicion,objeto in enumerate(objetos_transformacion)}\n",
        "# escritura del nuevo archivo\n",
        "archivo_nuevo_transformacion_ini = \"/content/sample_data/anscombe.transformacion.nuevo.ini\"\n",
        "ini = ConfigParser()\n",
        "ini.read_dict(tabla_ini_transformacion)\n",
        "with open(archivo_nuevo_transformacion_ini, \"w\") as w:\n",
        "    ini.write(w)"
      ],
      "metadata": {
        "id": "r5SeqSAZWEb4"
      },
      "execution_count": null,
      "outputs": []
    },
    {
      "cell_type": "code",
      "source": [
        "!pip install pyyaml\n",
        "from yaml import dump\n",
        "\n",
        "# transformaición a yaml\n",
        "tabla_yaml_transformacion = {f\"Dato_{posicion:02d}\":objeto for posicion,objeto in enumerate(objetos_transformacion)}\n",
        "# escritura del nuevo archivo\n",
        "archivo_nuevo_transformacion_yaml = \"/content/sample_data/anscombe.transformacion.nuevo.yaml\"\n",
        "\n",
        "with open(archivo_nuevo_transformacion_yaml, \"w\") as w:\n",
        "  # escribe el yaml en formato de texto\n",
        "  dump(tabla_yaml_transformacion, w)\n"
      ],
      "metadata": {
        "id": "QJNp-6gMX21T"
      },
      "execution_count": null,
      "outputs": []
    }
  ]
}