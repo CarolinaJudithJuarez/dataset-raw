{
  "nbformat": 4,
  "nbformat_minor": 0,
  "metadata": {
    "colab": {
      "provenance": []
    },
    "kernelspec": {
      "name": "python3",
      "display_name": "Python 3"
    },
    "language_info": {
      "name": "python"
    }
  },
  "cells": [
    {
      "cell_type": "markdown",
      "source": [
        "# Práctica 001\n",
        "\n",
        "Relacionada a la creación de celdas y programación básica de python.\n",
        "\n",
        "Se deben corregir las celdas de tipo texto según las siguientes\n",
        "directivas:\n",
        "\n",
        "- Título: #\n",
        "- Resaltado: negrita\n",
        "- Código: sección de código\n",
        "\n",
        "`ANTES DE LEER LOS ENUNCIADOS Y RESOLVERLOS REALIZAR LAS CORRECIONES DE LAS CELDAS DE TIPO TEXTO`\n",
        "\n"
      ],
      "metadata": {
        "id": "7lnzhHZRzGkp"
      }
    },
    {
      "cell_type": "markdown",
      "source": [
        "# Ejercicio 01\n",
        "\n",
        "Crear un script con la suma de los **n** primeros números naturales y mostrar dicha suma."
      ],
      "metadata": {
        "id": "8DeZ7SXu0vfR"
      }
    },
    {
      "cell_type": "code",
      "source": [
        "#@title\n",
        "primeros_numero_naturales = 99 #@param {type: \"integer\"}"
      ],
      "metadata": {
        "id": "9CSu9eSSuN7s"
      },
      "execution_count": null,
      "outputs": []
    },
    {
      "cell_type": "code",
      "source": [
        "if primeros_numero_naturales <= 0:\n",
        "  print(\"No se ingreso un número natural\")\n",
        "else:\n",
        "  # sumo los valores\n",
        "  suma = 0\n",
        "  for valor in range(1,primeros_numero_naturales + 1):\n",
        "    suma += valor\n",
        "  # muestro el resultado y acomodo el signo\n",
        "  print(f\"La suma de los {primeros_numero_naturales} primero números naturales es {suma}\")"
      ],
      "metadata": {
        "id": "Gx_cZMosughc",
        "colab": {
          "base_uri": "https://localhost:8080/"
        },
        "outputId": "82dc9a54-2015-4dd8-953f-3d6947f2b182"
      },
      "execution_count": null,
      "outputs": [
        {
          "output_type": "stream",
          "name": "stdout",
          "text": [
            "La suma de los 99 primero números naturales es 4950\n"
          ]
        }
      ]
    },
    {
      "cell_type": "markdown",
      "source": [
        "# Ejercicio 02\n",
        "\n",
        "Crear un script con la suma de los **n** primeros números naturales impares y mostrar dicha suma."
      ],
      "metadata": {
        "id": "pGtbL9dk2JSp"
      }
    },
    {
      "cell_type": "code",
      "source": [
        "#@title\n",
        "primeros_numero_naturales_impares = 1 #@param {type: \"integer\"}"
      ],
      "metadata": {
        "cellView": "form",
        "id": "D5d14qUOxViW"
      },
      "execution_count": null,
      "outputs": []
    },
    {
      "cell_type": "code",
      "source": [
        "suma_impares = 0\n",
        "if primeros_numero_naturales_impares <= 0:\n",
        "  print(\"No se ingreso un número natural\")\n",
        "elif primeros_numero_naturales_impares != 0:\n",
        "  suma_impares = 0\n",
        "  # 1, 3, 5, 7, 9\n",
        "  for valor in range(1, primeros_numero_naturales_impares + 1, 2):\n",
        "    suma_impares += valor\n",
        "  # muestro el resultado\n",
        "  print(f\"La suma de los {primeros_numero_naturales_impares} primero números naturales es {suma_impares}\")"
      ],
      "metadata": {
        "id": "6tT56s9TxWv3"
      },
      "execution_count": null,
      "outputs": []
    },
    {
      "cell_type": "code",
      "source": [
        "suma_impares = 0\n",
        "if primeros_numero_naturales_impares <= 0:\n",
        "  print(\"No se ingreso un número natural\")\n",
        "elif primeros_numero_naturales_impares != 0:\n",
        "  suma_impares = 0\n",
        "  # 1, 3, 5, 7, 9\n",
        "  for valor in range(1, primeros_numero_naturales_impares + 1):\n",
        "    if valor % 2 != 0:\n",
        "      suma_impares += valor\n",
        "  # muestro el resultado\n",
        "  print(f\"La suma de los {primeros_numero_naturales_impares} primero números naturales es {suma_impares}\")"
      ],
      "metadata": {
        "id": "akdLMs6KJhke"
      },
      "execution_count": null,
      "outputs": []
    },
    {
      "cell_type": "markdown",
      "source": [
        "# Ejercicio 03\n",
        "\n",
        "Crear un script para contar la cantidad de caracteres repetidos, tomar en cuenta que el texto posee mayúsculas y minúsculas. Se debe mostrar la **letra** y la **cantidad de veces que aparece en el texto**.\n",
        "\n",
        "```\n",
        "Un especialista en machine learning es responsable de diseñar, construir y entrenar modelos de aprendizaje automático que permitan a las empresas tomar decisiones más informadas y eficientes. Estos especialistas deben ser expertos en matemáticas, estadística y programación, y deben tener un amplio conocimiento de los algoritmos y técnicas de aprendizaje automático. A continuación se detallan las principales tareas que realiza un especialista en machine learning:\n",
        "\n",
        "1 - Recopilación y preparación de datos: Los especialistas en machine learning deben recopilar y preparar grandes cantidades de datos que se utilizarán para entrenar modelos de aprendizaje automático. Esto puede implicar la limpieza y el procesamiento de datos para garantizar que sean precisos y estén en un formato adecuado para el análisis.\n",
        "\n",
        "2 - Desarrollo de modelos de aprendizaje automático: Los especialistas en machine learning deben seleccionar los algoritmos y técnicas de aprendizaje automático adecuados para el problema que están abordando. También deben ajustar y optimizar los modelos para mejorar su precisión y capacidad de generalización.\n",
        "\n",
        "3 - Implementación de modelos de aprendizaje automático: Una vez que se han desarrollado los modelos de aprendizaje automático, los especialistas en machine learning deben implementarlos en un sistema de producción para que puedan ser utilizados para tomar decisiones.\n",
        "\n",
        "4 - Monitoreo y ajuste de modelos: Los modelos de aprendizaje automático deben monitorearse y ajustarse continuamente para garantizar que sigan siendo precisos y relevantes. Los especialistas en machine learning deben estar atentos a los cambios en los datos y en el entorno empresarial que puedan afectar el rendimiento del modelo.\n",
        "\n",
        "5 - Comunicación de resultados: Los especialistas en machine learning deben ser capaces de comunicar de manera efectiva los resultados de sus modelos a otros miembros del equipo y a los clientes. Esto puede implicar la elaboración de informes, presentaciones y demostraciones de los modelos en acción.\n",
        "\n",
        "En resumen, un especialista en machine learning debe tener una sólida comprensión de los fundamentos matemáticos y estadísticos del aprendizaje automático, así como de las herramientas y técnicas de programación necesarias para implementar modelos de manera efectiva. Además, deben ser capaces de trabajar en equipo y comunicarse de manera efectiva para asegurar que los modelos de aprendizaje automático se utilicen de manera óptima en el entorno empresarial.\n",
        "```"
      ],
      "metadata": {
        "id": "NctoAFVc391b"
      }
    },
    {
      "cell_type": "code",
      "source": [
        "texto = \"\"\"\n",
        "Un especialista en machine learning es responsable de diseñar, construir y entrenar modelos de aprendizaje automático que permitan a las empresas tomar decisiones más informadas y eficientes. Estos especialistas deben ser expertos en matemáticas, estadística y programación, y deben tener un amplio conocimiento de los algoritmos y técnicas de aprendizaje automático. A continuación se detallan las principales tareas que realiza un especialista en machine learning:\n",
        "\n",
        "1 - Recopilación y preparación de datos: Los especialistas en machine learning deben recopilar y preparar grandes cantidades de datos que se utilizarán para entrenar modelos de aprendizaje automático. Esto puede implicar la limpieza y el procesamiento de datos para garantizar que sean precisos y estén en un formato adecuado para el análisis.\n",
        "\n",
        "2 - Desarrollo de modelos de aprendizaje automático: Los especialistas en machine learning deben seleccionar los algoritmos y técnicas de aprendizaje automático adecuados para el problema que están abordando. También deben ajustar y optimizar los modelos para mejorar su precisión y capacidad de generalización.\n",
        "\n",
        "3 - Implementación de modelos de aprendizaje automático: Una vez que se han desarrollado los modelos de aprendizaje automático, los especialistas en machine learning deben implementarlos en un sistema de producción para que puedan ser utilizados para tomar decisiones.\n",
        "\n",
        "4 - Monitoreo y ajuste de modelos: Los modelos de aprendizaje automático deben monitorearse y ajustarse continuamente para garantizar que sigan siendo precisos y relevantes. Los especialistas en machine learning deben estar atentos a los cambios en los datos y en el entorno empresarial que puedan afectar el rendimiento del modelo.\n",
        "\n",
        "5 - Comunicación de resultados: Los especialistas en machine learning deben ser capaces de comunicar de manera efectiva los resultados de sus modelos a otros miembros del equipo y a los clientes. Esto puede implicar la elaboración de informes, presentaciones y demostraciones de los modelos en acción.\n",
        "\n",
        "En resumen, un especialista en machine learning debe tener una sólida comprensión de los fundamentos matemáticos y estadísticos del aprendizaje automático, así como de las herramientas y técnicas de programación necesarias para implementar modelos de manera efectiva. Además, deben ser capaces de trabajar en equipo y comunicarse de manera efectiva para asegurar que los modelos de aprendizaje automático se utilicen de manera óptima en el entorno empresarial.\n",
        "\"\"\"\n",
        "# texto.count('a')\n",
        "# creo un diccionario para guardar los caracteres y las cantidades\n",
        "repeticiones = {}\n",
        "# recorro el texto\n",
        "for caracter in texto:\n",
        "  if caracter in repeticiones:\n",
        "    # el caracter ya se encuentra en el diccionario\n",
        "    repeticiones[caracter] += 1\n",
        "  else:\n",
        "    # el caracter NO se encuentra en el diccionario y lo inicializo en 1\n",
        "    repeticiones[caracter] = 1\n",
        "# ordeno los caracteres y muestro con la salvedad del enter y el espacio\n",
        "for caracter in sorted(repeticiones.keys()):\n",
        "  if caracter == \"\\n\":\n",
        "    print(f\"enter: {repeticiones[caracter]}\")\n",
        "  elif caracter == \" \":\n",
        "    print(f\"espacio: {repeticiones[caracter]}\")\n",
        "  else:\n",
        "    print(f\"{caracter}: {repeticiones[caracter]}\")\n"
      ],
      "metadata": {
        "id": "TJnk6mqV0fdw",
        "colab": {
          "base_uri": "https://localhost:8080/"
        },
        "outputId": "af2dab20-2117-40ee-8291-0c9cb912d7dd"
      },
      "execution_count": null,
      "outputs": [
        {
          "output_type": "stream",
          "name": "stdout",
          "text": [
            "enter: 14\n",
            "espacio: 359\n",
            ",: 8\n",
            "-: 5\n",
            ".: 13\n",
            "1: 1\n",
            "2: 1\n",
            "3: 1\n",
            "4: 1\n",
            "5: 1\n",
            ":: 6\n",
            "A: 2\n",
            "C: 1\n",
            "D: 1\n",
            "E: 4\n",
            "I: 1\n",
            "L: 5\n",
            "M: 1\n",
            "R: 1\n",
            "T: 1\n",
            "U: 2\n",
            "a: 239\n",
            "b: 19\n",
            "c: 95\n",
            "d: 107\n",
            "e: 296\n",
            "f: 9\n",
            "g: 18\n",
            "h: 10\n",
            "i: 152\n",
            "j: 15\n",
            "l: 92\n",
            "m: 87\n",
            "n: 158\n",
            "o: 147\n",
            "p: 71\n",
            "q: 12\n",
            "r: 129\n",
            "s: 163\n",
            "t: 106\n",
            "u: 54\n",
            "v: 5\n",
            "x: 1\n",
            "y: 21\n",
            "z: 19\n",
            "á: 17\n",
            "é: 5\n",
            "í: 3\n",
            "ñ: 1\n",
            "ó: 15\n"
          ]
        }
      ]
    },
    {
      "cell_type": "markdown",
      "source": [
        "# Ejercicio 04\n",
        "\n",
        "Crear un script con **n** filas donde se muestre la siguientes estructura.\n",
        "\n",
        "```\n",
        "1\n",
        "1 1\n",
        "1 2 1\n",
        "1 3 3 1\n",
        "1 4 6 4 1\n",
        ".....\n",
        "```\n"
      ],
      "metadata": {
        "id": "RqHGu4c87TDZ"
      }
    },
    {
      "cell_type": "code",
      "source": [
        "#@title\n",
        "filas = 10 #@param {type: \"integer\"}"
      ],
      "metadata": {
        "cellView": "form",
        "id": "dzWyINGQ5H0c"
      },
      "execution_count": null,
      "outputs": []
    },
    {
      "cell_type": "code",
      "source": [
        "# inicializo un lista (matriz) de respuesta\n",
        "estructura = []\n",
        "if filas <= 0:\n",
        "  print(\"No se puede crear la escructura\")\n",
        "if filas >= 1:\n",
        "  # agrego la primer fila\n",
        "  estructura.append([1])\n",
        "if filas >= 2:\n",
        "  # agrego la segunda fila\n",
        "  estructura.append([1,1])\n",
        "if filas >= 3:\n",
        "  # comienzo a iterar con la salvedad que ya tengo 2 filas insertadas\n",
        "  for i in range(2, filas+1):\n",
        "    fila = []\n",
        "    fila.append(1)\n",
        "    # calculo los valores de las columnas obviando la primer y la última columna\n",
        "    for j in range(1, i):\n",
        "      # sumo de la fila anterior los valores de la columna anterior y la columna\n",
        "      # actual\n",
        "      fila.append(estructura[i-1][j-1]+estructura[i-1][j])\n",
        "    fila.append(1)\n",
        "    estructura.append(fila)\n",
        "# muestro la estructura\n",
        "for p in estructura:\n",
        "  print(\" \".join(map(str,p)))"
      ],
      "metadata": {
        "id": "5etLuX2J5TSj",
        "colab": {
          "base_uri": "https://localhost:8080/"
        },
        "outputId": "1d64470c-7120-4c6f-f014-488676039599"
      },
      "execution_count": null,
      "outputs": [
        {
          "output_type": "stream",
          "name": "stdout",
          "text": [
            "1\n",
            "1 1\n",
            "1 2 1\n",
            "1 3 3 1\n",
            "1 4 6 4 1\n",
            "1 5 10 10 5 1\n",
            "1 6 15 20 15 6 1\n",
            "1 7 21 35 35 21 7 1\n",
            "1 8 28 56 70 56 28 8 1\n",
            "1 9 36 84 126 126 84 36 9 1\n",
            "1 10 45 120 210 252 210 120 45 10 1\n"
          ]
        }
      ]
    },
    {
      "cell_type": "markdown",
      "source": [
        "# Ejercicio 05\n",
        "\n",
        "Crear un script para verificar si un texto es palíndromo o no. Para esta comprobación no se deben tener en cuenta los espacios en blanco.\n",
        "\n",
        "**Es palíndromo**\n",
        "```\n",
        "eva usaba rimel y le miraba suave\n",
        "```\n",
        "\n",
        "**No es palíndromo**\n",
        "```\n",
        "puro chile es tu cielo azulado\n",
        "```\n"
      ],
      "metadata": {
        "id": "hj1yCfGa7205"
      }
    },
    {
      "cell_type": "code",
      "source": [
        "#@title\n",
        "frase = \"eva usaba rimel y le miraba suave\" #@param {type: \"string\"}"
      ],
      "metadata": {
        "cellView": "form",
        "id": "N261gg7b8b-F"
      },
      "execution_count": null,
      "outputs": []
    },
    {
      "cell_type": "code",
      "source": [
        "# elimino todos los espacios en blanco\n",
        "frase = frase.replace(\" \", \"\")\n",
        "if len(frase) == 0:\n",
        "  print(\"No se ingreso una frase\")\n",
        "else:\n",
        "  # supongo que es un palíndromolf\n",
        "  palindromo = True\n",
        "  posicion = 0\n",
        "  longitud_frase = len(frase)\n",
        "  mitad_frase = longitud_frase // 2\n",
        "  # recorro la frase hasta la mitad y mientras sea un palíndromo\n",
        "  while posicion <= mitad_frase and palindromo:\n",
        "    # comparo una posición y su opuesto, se le resta 1 porque el len comienza\n",
        "    # de 1 y no de 0\n",
        "    # aca\n",
        "    palindromo = frase[posicion] == frase[longitud_frase - posicion - 1]\n",
        "    posicion += 1\n",
        "\n",
        "  if palindromo:\n",
        "    print(\"La frase es un palindromo\")\n",
        "  else:\n",
        "    print(\"La frase NO es un palindromo\")"
      ],
      "metadata": {
        "id": "PBQP4s888nmV"
      },
      "execution_count": null,
      "outputs": []
    },
    {
      "cell_type": "markdown",
      "source": [
        "# Ejercicio 06\n",
        "\n",
        "Crear un script que dado un texto me informe la cantidad de repeticiones de cada caracter con soporte key sentive. Luego cifrarlo con las cantidades totales.\n",
        "\n",
        "```\n",
        "Por ejemplo: ala\n",
        "  a = 2\n",
        "  l = 1\n",
        "  212 (ala)\n",
        "```"
      ],
      "metadata": {
        "id": "UGtwrdLy8_ZL"
      }
    },
    {
      "cell_type": "code",
      "source": [
        "#@title\n",
        "texto_cifrado = \"Herramientas de Software para el Análisis de Datos\" #@param {type: \"string\"}"
      ],
      "metadata": {
        "cellView": "form",
        "id": "sCQ61XW7_A0G"
      },
      "execution_count": null,
      "outputs": []
    },
    {
      "cell_type": "code",
      "source": [
        "# creo un diccionario para almacenar las repeticiones\n",
        "repeticiones_cifrado = {}\n",
        "# mismo código que el ejercicio 3\n",
        "for caracter in texto_cifrado:\n",
        "  if caracter in repeticiones_cifrado:\n",
        "    repeticiones_cifrado[caracter] += 1\n",
        "  else:\n",
        "    repeticiones_cifrado[caracter] = 1\n",
        "\n",
        "respuesta_cifrado = \"\"\n",
        "# recorro el texto para cifrarlo con las cantidades\n",
        "for caracter in texto_cifrado:\n",
        "  respuesta_cifrado += str(repeticiones_cifrado[caracter])\n",
        "\n",
        "print(f\"El texto es: {texto_cifrado}\")\n",
        "print(f\"El cifrado es: {respuesta_cifrado}\")\n",
        "# muestro la cantidad por caracter\n",
        "for caracter in texto_cifrado:\n",
        "  print(f\"{caracter}: {repeticiones_cifrado[caracter]}\")\n"
      ],
      "metadata": {
        "id": "edK4kZt1_KFe",
        "colab": {
          "base_uri": "https://localhost:8080/"
        },
        "outputId": "7ab8f2ae-048f-4554-9918-8ef5ec40d9e6"
      },
      "execution_count": null,
      "outputs": [
        {
          "output_type": "stream",
          "name": "stdout",
          "text": [
            "El texto es: Herramientas de Software para el Análisis de Datos\n",
            "El cifrado es: 16446136236472671213164671646762712123434726716324\n",
            "H: 1\n",
            "e: 6\n",
            "r: 4\n",
            "r: 4\n",
            "a: 6\n",
            "m: 1\n",
            "i: 3\n",
            "e: 6\n",
            "n: 2\n",
            "t: 3\n",
            "a: 6\n",
            "s: 4\n",
            " : 7\n",
            "d: 2\n",
            "e: 6\n",
            " : 7\n",
            "S: 1\n",
            "o: 2\n",
            "f: 1\n",
            "t: 3\n",
            "w: 1\n",
            "a: 6\n",
            "r: 4\n",
            "e: 6\n",
            " : 7\n",
            "p: 1\n",
            "a: 6\n",
            "r: 4\n",
            "a: 6\n",
            " : 7\n",
            "e: 6\n",
            "l: 2\n",
            " : 7\n",
            "A: 1\n",
            "n: 2\n",
            "á: 1\n",
            "l: 2\n",
            "i: 3\n",
            "s: 4\n",
            "i: 3\n",
            "s: 4\n",
            " : 7\n",
            "d: 2\n",
            "e: 6\n",
            " : 7\n",
            "D: 1\n",
            "a: 6\n",
            "t: 3\n",
            "o: 2\n",
            "s: 4\n"
          ]
        }
      ]
    }
  ]
}