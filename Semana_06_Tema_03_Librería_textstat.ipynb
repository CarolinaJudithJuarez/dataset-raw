{
  "nbformat": 4,
  "nbformat_minor": 0,
  "metadata": {
    "colab": {
      "provenance": [],
      "toc_visible": true
    },
    "kernelspec": {
      "name": "python3",
      "display_name": "Python 3"
    },
    "language_info": {
      "name": "python"
    }
  },
  "cells": [
    {
      "cell_type": "markdown",
      "source": [
        "# [TextStat](https://github.com/textstat/textstat)\n",
        "\n",
        "Librería para calcular estadísticas sobre los textos. Ayuda a determinar el grado complejidad y el nivel de dificultad del mismo.\n"
      ],
      "metadata": {
        "id": "ECae5Xt57Emo"
      }
    },
    {
      "cell_type": "markdown",
      "source": [
        "# Instalación"
      ],
      "metadata": {
        "id": "Tj9xVuAb7Y58"
      }
    },
    {
      "cell_type": "code",
      "execution_count": null,
      "metadata": {
        "colab": {
          "base_uri": "https://localhost:8080/"
        },
        "id": "qyZRzl6mmfXD",
        "outputId": "ee67dedd-70b1-48fa-a501-31c32296987f"
      },
      "outputs": [
        {
          "output_type": "stream",
          "name": "stdout",
          "text": [
            "Looking in indexes: https://pypi.org/simple, https://us-python.pkg.dev/colab-wheels/public/simple/\n",
            "Collecting textstat\n",
            "  Downloading textstat-0.7.3-py3-none-any.whl (105 kB)\n",
            "\u001b[2K     \u001b[90m━━━━━━━━━━━━━━━━━━━━━━━━━━━━━━━━━━━━━━━\u001b[0m \u001b[32m105.1/105.1 kB\u001b[0m \u001b[31m3.6 MB/s\u001b[0m eta \u001b[36m0:00:00\u001b[0m\n",
            "\u001b[?25hCollecting pyphen\n",
            "  Downloading pyphen-0.14.0-py3-none-any.whl (2.0 MB)\n",
            "\u001b[2K     \u001b[90m━━━━━━━━━━━━━━━━━━━━━━━━━━━━━━━━━━━━━━━━\u001b[0m \u001b[32m2.0/2.0 MB\u001b[0m \u001b[31m34.8 MB/s\u001b[0m eta \u001b[36m0:00:00\u001b[0m\n",
            "\u001b[?25hInstalling collected packages: pyphen, textstat\n",
            "Successfully installed pyphen-0.14.0 textstat-0.7.3\n"
          ]
        }
      ],
      "source": [
        "!pip install textstat\n",
        "import textstat"
      ]
    },
    {
      "cell_type": "markdown",
      "source": [
        "# Textos\n",
        "\n",
        "Definimos los textos a utilizar.\n",
        "\n",
        "- **texto**: texto que venimos usando en los notebooks anteriores.\n",
        "- **don_quijote**: extracto del libro de Don Quijote.\n",
        "- **nota**: extracto de una nota."
      ],
      "metadata": {
        "id": "T8HKj6sN7hfu"
      }
    },
    {
      "cell_type": "code",
      "source": [
        "texto = \"\"\"La inteligencia artificial (IA), en el contexto de las ciencias de la\n",
        "computación, es el conjunto de sistemas o combinación de algoritmos, cuyo\n",
        "propósito es crear máquinas que imitan la inteligencia humana para realizar\n",
        "tareas y pueden mejorar conforme la información que recopilan. La inteligencia\n",
        "artificial no tiene como finalidad reemplazar a los humanos, sino mejorar\n",
        "significativamente las capacidades y contribuciones humanas. Se hizo presente\n",
        "poco después de la Segunda Guerra Mundial, y el nombre lo acuñó en 1956 el\n",
        "informático John McCarthy, en la Conferencia de Dartmouth.\"\"\"\n",
        "\n",
        "don_quijote = \"\"\"En un lugar de la Mancha, de cuyo nombre no quiero acordarme,\n",
        "no ha mucho tiempo que vivía un hidalgo de los de lanza en astillero, adarga\n",
        "antigua, rocín flaco y galgo corredor. Una olla de algo más vaca que carnero,\n",
        "salpicón las más noches, duelos y quebrantos los sábados, lentejas los viernes,\n",
        "algún palomino de añadidura los domingos, consumían las tres partes de su\n",
        "hacienda.\"\"\"\n",
        "\n",
        "nota = \"\"\"Hay que recordar que Google maneja el 90% de las búsquedas en\n",
        "Internet, pero este dominio fue atacado el pasado febrero cuando Microsoft\n",
        "presentó su nuevo chatbot, integrando ChatGPT a su buscador Bing y mejorando\n",
        "muchísimo la experiencia. Mientras el Bard de Google ha llegado con ciertos\n",
        "problemas.\"\"\""
      ],
      "metadata": {
        "id": "SZZRLTpry9ir"
      },
      "execution_count": null,
      "outputs": []
    },
    {
      "cell_type": "markdown",
      "source": [
        "# Íngles"
      ],
      "metadata": {
        "id": "BBjho_xu8umQ"
      }
    },
    {
      "cell_type": "markdown",
      "source": [
        "## [Puntuación Flesch de facilidad de lectura](https://en.wikipedia.org/wiki/Flesch%E2%80%93Kincaid_readability_tests#Flesch_reading_ease)\n",
        "\n",
        "La tabla es un ejemplo de valores. Aunque la puntuación máxima es 121,22, no hay límite en cuanto a lo baja que puede ser la puntuación. Una puntuación negativa es válida.\n",
        "\n",
        "| Score | Difficulty |\n",
        "| --- | --- |\n",
        "| 90-100 | Muy fácil |\n",
        "| 80-89 | Fácil |\n",
        "| 70-79 | Bastante fácil |\n",
        "| 60-69 | Normal |\n",
        "| 50-59 | Bastante difícil |\n",
        "| 30-49 | Difícil |\n",
        "| 0-29 | Muy confuso |"
      ],
      "metadata": {
        "id": "n44gVhp0nm1-"
      }
    },
    {
      "cell_type": "code",
      "source": [
        "print(\"Puntuación para texto: \\n\", textstat.flesch_reading_ease(texto), end=\"\\n\")\n",
        "print(\"Puntuación para don_quijote: \\n\", textstat.flesch_reading_ease(don_quijote), end=\"\\n\")\n",
        "print(\"Puntuación para nota: \\n\", textstat.flesch_reading_ease(nota), end=\"\\n\")"
      ],
      "metadata": {
        "colab": {
          "base_uri": "https://localhost:8080/"
        },
        "id": "7GpSFSXcnnuQ",
        "outputId": "6981ea78-0789-4178-a02a-7c42c8b20baa"
      },
      "execution_count": null,
      "outputs": [
        {
          "output_type": "stream",
          "name": "stdout",
          "text": [
            "Puntuación para texto: \n",
            " 24.82\n",
            "Puntuación para don_quijote: \n",
            " 46.44\n",
            "Puntuación para nota: \n",
            " 38.66\n"
          ]
        }
      ]
    },
    {
      "cell_type": "markdown",
      "source": [
        "## [El grado Flesch-Kincaid](https://en.wikipedia.org/wiki/Flesch%E2%80%93Kincaid_readability_tests#Flesch%E2%80%93Kincaid_grade_level)\n",
        "\n",
        "Se trata de una fórmula de grado en la que una puntuación de 9,3 significa que un alumno de noveno grado (en EEUU) sería capaz de leer el documento. Es muy utilizada por profesores o bibliotecarios.\n",
        "\n",
        "Cuanto más alta es la puntuación más complejo es el texto."
      ],
      "metadata": {
        "id": "kjv1clL6zSRa"
      }
    },
    {
      "cell_type": "code",
      "source": [
        "print(\"Puntuación para texto: \\n\", textstat.flesch_kincaid_grade(texto), end=\"\\n\")\n",
        "print(\"Puntuación para don_quijote: \\n\", textstat.flesch_kincaid_grade(don_quijote), end=\"\\n\")\n",
        "print(\"Puntuación para nota: \\n\", textstat.flesch_kincaid_grade(nota), end=\"\\n\")"
      ],
      "metadata": {
        "colab": {
          "base_uri": "https://localhost:8080/"
        },
        "id": "jAYSDATdzex5",
        "outputId": "b1001c78-7ef4-4217-a48d-c03f09bcc0b9"
      },
      "execution_count": null,
      "outputs": [
        {
          "output_type": "stream",
          "name": "stdout",
          "text": [
            "Puntuación para texto: \n",
            " 17.1\n",
            "Puntuación para don_quijote: \n",
            " 15.0\n",
            "Puntuación para nota: \n",
            " 13.8\n"
          ]
        }
      ]
    },
    {
      "cell_type": "markdown",
      "source": [
        "## [La escala de niebla](https://en.wikipedia.org/wiki/Gunning_fog_index)\n",
        "\n",
        "Devuelve el índice FOG del texto dado. Se trata de una fórmula de grado en la que una puntuación de 9,3 significa que un alumno de noveno grado sería capaz de leer el documento.\n",
        "\n",
        "| Fog | Índice Nivel de lectura por curso |\n",
        "| --- | --- |\n",
        "| 17 | Graduado universitario |\n",
        "| 16 | Último curso universitario |\n",
        "| 15 | Junior universitario |\n",
        "| 14 | Segundo año de universidad |\n",
        "| 13 | Estudiante de primer año de universidad |\n",
        "| 12 | Estudiante de último curso de secundaria |\n",
        "| 11 | Junior de secundaria |\n",
        "| 10 | Estudiante de segundo de bachillerato |\n",
        "| 9 | Estudiante de primer año de secundaria |\n",
        "| 8 | Octavo curso |\n",
        "| 7 | Séptimo curso |\n",
        "| 6 | Sexto curso |"
      ],
      "metadata": {
        "id": "iGRLQpgu0_Xp"
      }
    },
    {
      "cell_type": "code",
      "source": [
        "print(\"Puntuación para texto: \\n\", textstat.gunning_fog(texto), end=\"\\n\")\n",
        "print(\"Puntuación para don_quijote: \\n\", textstat.gunning_fog(don_quijote), end=\"\\n\")\n",
        "print(\"Puntuación para nota: \\n\", textstat.gunning_fog(nota), end=\"\\n\")"
      ],
      "metadata": {
        "colab": {
          "base_uri": "https://localhost:8080/"
        },
        "id": "JyTJRdi71I-y",
        "outputId": "bec4af8d-2623-4372-d35d-82a7d79efeaa"
      },
      "execution_count": null,
      "outputs": [
        {
          "output_type": "stream",
          "name": "stdout",
          "text": [
            "Puntuación para texto: \n",
            " 18.99\n",
            "Puntuación para don_quijote: \n",
            " 16.23\n",
            "Puntuación para nota: \n",
            " 17.93\n"
          ]
        }
      ]
    },
    {
      "cell_type": "markdown",
      "source": [
        "## [El índice SMOG](https://en.wikipedia.org/wiki/SMOG)\n",
        "\n",
        "Devuelve el índice SMOG del texto dado. Se trata de una fórmula de grado en la que una puntuación de 9,3 significa que un alumno de noveno grado sería capaz de leer el documento.\n",
        "\n",
        "Los textos de menos de 30 frases no son estadísticamente válidos, porque la fórmula SMOG se normalizó en muestras de 30 frases. textstat requiere al menos 3 frases para obtener un resultado.\n"
      ],
      "metadata": {
        "id": "rxbVHX_12SXM"
      }
    },
    {
      "cell_type": "code",
      "source": [
        "print(\"Puntuación para texto: \\n\", textstat.smog_index(texto), end=\"\\n\")\n",
        "print(\"Puntuación para don_quijote: \\n\", textstat.smog_index(don_quijote), end=\"\\n\")\n",
        "print(\"Puntuación para nota: \\n\", textstat.smog_index(nota), end=\"\\n\")"
      ],
      "metadata": {
        "colab": {
          "base_uri": "https://localhost:8080/"
        },
        "id": "Kwr2Y2iV2T2a",
        "outputId": "8a837f8d-ab24-4566-8b81-7fe2103dd145"
      },
      "execution_count": null,
      "outputs": [
        {
          "output_type": "stream",
          "name": "stdout",
          "text": [
            "Puntuación para texto: \n",
            " 17.5\n",
            "Puntuación para don_quijote: \n",
            " 0.0\n",
            "Puntuación para nota: \n",
            " 0.0\n"
          ]
        }
      ]
    },
    {
      "cell_type": "markdown",
      "source": [
        "## [Índice de legibilidad automatizado](https://en.wikipedia.org/wiki/Automated_readability_index)\n",
        "textstat.automated_readability_index(texto)\n",
        "Devuelve el ARI (Automated Readability Index), que da como resultado un número que se aproxima al nivel de grado necesario para comprender el texto.\n",
        "\n",
        "Por ejemplo, si el ARI es 6,5, el nivel necesario para comprender el texto es de 6º a 7º curso.\n",
        "\n",
        "| Puntuación | Edad | Nivel |\n",
        "| --- | --- | --- |\n",
        "| 1 | 5-6 | Jardín de infancia |\n",
        "| 2 | 6-7 | Primer curso |\n",
        "| 3 | 7-8 | Segundo curso |\n",
        "| 4 | 8-9 | Tercer Grado |\n",
        "| 5 | 9-10 | Cuarto curso |\n",
        "| 6 | 10-11 | Quinto Grado |\n",
        "| 7 | 11-12 | Sexto Grado |\n",
        "| 8 | 12-13 | Séptimo Grado |\n",
        "| 9 | 13-14 | Octavo Grado |\n",
        "| 10 | 14-15 | Noveno Grado |\n",
        "| 11 | 15-16 | Décimo Grado |\n",
        "| 12 | 16-17 | Undécimo Grado |\n",
        "| 13 | 17-18 | Duodécimo curso |\n",
        "| 14 | 18-22 | Estudiante universitario |\n"
      ],
      "metadata": {
        "id": "_lOZWeQY25e_"
      }
    },
    {
      "cell_type": "code",
      "source": [
        "print(\"Puntuación para texto: \\n\", textstat.automated_readability_index(texto), end=\"\\n\")\n",
        "print(\"Puntuación para don_quijote: \\n\", textstat.automated_readability_index(don_quijote), end=\"\\n\")\n",
        "print(\"Puntuación para nota: \\n\", textstat.automated_readability_index(nota), end=\"\\n\")"
      ],
      "metadata": {
        "colab": {
          "base_uri": "https://localhost:8080/"
        },
        "id": "u4rcdQWs2_hf",
        "outputId": "18d57239-33cb-430a-be7b-29acb235f37f"
      },
      "execution_count": null,
      "outputs": [
        {
          "output_type": "stream",
          "name": "stdout",
          "text": [
            "Puntuación para texto: \n",
            " 19.8\n",
            "Puntuación para don_quijote: \n",
            " 17.5\n",
            "Puntuación para nota: \n",
            " 15.4\n"
          ]
        }
      ]
    },
    {
      "cell_type": "markdown",
      "source": [
        "## [Índice Coleman-Liau](https://en.wikipedia.org/wiki/Coleman%E2%80%93Liau_index)\n",
        "\n",
        "Devuelve el nivel de grado del texto utilizando la fórmula Coleman-Liau. Se trata de una fórmula de grado en la que una puntuación de 9,3 significa que un alumno de noveno grado sería capaz de leer el documento."
      ],
      "metadata": {
        "id": "-Uepf1V14EoR"
      }
    },
    {
      "cell_type": "code",
      "source": [
        "print(\"Puntuación para texto: \\n\", textstat.coleman_liau_index(texto), end=\"\\n\")\n",
        "print(\"Puntuación para don_quijote: \\n\", textstat.coleman_liau_index(don_quijote), end=\"\\n\")\n",
        "print(\"Puntuación para nota: \\n\", textstat.coleman_liau_index(nota), end=\"\\n\")"
      ],
      "metadata": {
        "colab": {
          "base_uri": "https://localhost:8080/"
        },
        "id": "ecdRnCV54FA-",
        "outputId": "0cf0b47b-1c27-435b-e105-55f8c10969cc"
      },
      "execution_count": null,
      "outputs": [
        {
          "output_type": "stream",
          "name": "stdout",
          "text": [
            "Puntuación para texto: \n",
            " 15.33\n",
            "Puntuación para don_quijote: \n",
            " 10.05\n",
            "Puntuación para nota: \n",
            " 13.0\n"
          ]
        }
      ]
    },
    {
      "cell_type": "markdown",
      "source": [
        "## [Fórmula de escritura Linsear](https://en.wikipedia.org/wiki/Linsear_Write)\n",
        "\n",
        "Devuelve el nivel de grado utilizando la fórmula Linsear Write. Se trata de una fórmula de grado en la que una puntuación de 9,3 significa que un alumno de noveno grado sería capaz de leer el documento."
      ],
      "metadata": {
        "id": "gBH1Ad9Y4b3v"
      }
    },
    {
      "cell_type": "code",
      "source": [
        "print(\"Puntuación para texto: \\n\", textstat.linsear_write_formula(texto), end=\"\\n\")\n",
        "print(\"Puntuación para don_quijote: \\n\", textstat.linsear_write_formula(don_quijote), end=\"\\n\")\n",
        "print(\"Puntuación para nota: \\n\", textstat.linsear_write_formula(nota), end=\"\\n\")"
      ],
      "metadata": {
        "colab": {
          "base_uri": "https://localhost:8080/"
        },
        "id": "K7V0KWos4cKP",
        "outputId": "faae5b75-b96e-4345-db3d-d4489a301552"
      },
      "execution_count": null,
      "outputs": [
        {
          "output_type": "stream",
          "name": "stdout",
          "text": [
            "Puntuación para texto: \n",
            " 21.0\n",
            "Puntuación para don_quijote: \n",
            " 19.0\n",
            "Puntuación para nota: \n",
            " 17.0\n"
          ]
        }
      ]
    },
    {
      "cell_type": "markdown",
      "source": [
        "## [Puntuación Dale-Chall de legibilidad](https://en.wikipedia.org/wiki/Dale%E2%80%93Chall_readability_formula)\n",
        "\n",
        "Diferente de otros tests, ya que utiliza una tabla de búsqueda de las 3000 palabras `inglesas` más utilizadas. Así, devuelve el nivel de grado utilizando la Nueva Fórmula Dale-Chall.\n",
        "\n",
        "| Puntuación | Comprendido por |\n",
        "| --- | --- |\n",
        "| 4,9 o inferior | alumno medio de 4º curso o inferior |\n",
        "| 5,0-5,9 | alumno medio de 5º o 6º curso |\n",
        "| 6,0-6,9 | alumno medio de 7º u 8º curso |\n",
        "| 7,0-7,9 | alumno medio de 9º o 10º curso |\n",
        "| 8,0-8,9 | estudiante medio de 11º o 12º curso |\n",
        "| 9,0-9,9 | estudiante medio de 13º a 15º curso (universitario) |"
      ],
      "metadata": {
        "id": "gX-01svS45aO"
      }
    },
    {
      "cell_type": "code",
      "source": [
        "print(\"Puntuación para texto: \\n\", textstat.dale_chall_readability_score(texto), end=\"\\n\")\n",
        "print(\"Puntuación para don_quijote: \\n\", textstat.dale_chall_readability_score(don_quijote), end=\"\\n\")\n",
        "print(\"Puntuación para nota: \\n\", textstat.dale_chall_readability_score(nota), end=\"\\n\")"
      ],
      "metadata": {
        "colab": {
          "base_uri": "https://localhost:8080/"
        },
        "id": "0qugiGFq45vM",
        "outputId": "3d5d059f-64ee-4d65-ad70-2c1d7e53c6f9"
      },
      "execution_count": null,
      "outputs": [
        {
          "output_type": "stream",
          "name": "stdout",
          "text": [
            "Puntuación para texto: \n",
            " 16.04\n",
            "Puntuación para don_quijote: \n",
            " 16.76\n",
            "Puntuación para nota: \n",
            " 17.66\n"
          ]
        }
      ]
    },
    {
      "cell_type": "markdown",
      "source": [
        "## Consenso de legibilidad basado en todas las pruebas anteriores\n",
        "\n",
        "Basándose en todas las pruebas anteriores, devuelve el nivel escolar estimado necesario para comprender el texto.\n",
        "\n",
        "La opción float_output permite obtener la puntuación como un valor flotante. Por defecto es False.\n",
        "\n"
      ],
      "metadata": {
        "id": "mMnF92Md5uVJ"
      }
    },
    {
      "cell_type": "code",
      "source": [
        "print(\"Puntuación para texto: \\n\", textstat.text_standard(texto), end=\"\\n\")\n",
        "print(\"Puntuación para don_quijote: \\n\", textstat.text_standard(don_quijote), end=\"\\n\")\n",
        "print(\"Puntuación para nota: \\n\", textstat.text_standard(nota), end=\"\\n\")"
      ],
      "metadata": {
        "colab": {
          "base_uri": "https://localhost:8080/"
        },
        "id": "hpVyKNKR5u02",
        "outputId": "05f4d680-22eb-4372-8253-4d587e0af471"
      },
      "execution_count": null,
      "outputs": [
        {
          "output_type": "stream",
          "name": "stdout",
          "text": [
            "Puntuación para texto: \n",
            " 17th and 18th grade\n",
            "Puntuación para don_quijote: \n",
            " 16th and 17th grade\n",
            "Puntuación para nota: \n",
            " 17th and 18th grade\n"
          ]
        }
      ]
    },
    {
      "cell_type": "markdown",
      "source": [
        "## [Fórmula de legibilidad de Spache](https://en.wikipedia.org/wiki/Spache_readability_formula)\n",
        "\n",
        "Devuelve el nivel de grado del texto en `inglés`.\n",
        "\n",
        "Pensado para textos escritos para niños de hasta cuarto curso."
      ],
      "metadata": {
        "id": "eFfdfEB7551X"
      }
    },
    {
      "cell_type": "code",
      "source": [
        "print(\"Puntuación para texto: \\n\", textstat.spache_readability(texto), end=\"\\n\")\n",
        "print(\"Puntuación para don_quijote: \\n\", textstat.spache_readability(don_quijote), end=\"\\n\")\n",
        "print(\"Puntuación para nota: \\n\", textstat.spache_readability(nota), end=\"\\n\")"
      ],
      "metadata": {
        "colab": {
          "base_uri": "https://localhost:8080/"
        },
        "id": "Cja2HNnM6NTZ",
        "outputId": "6c42cf76-eb31-4821-a655-1393b228e64d"
      },
      "execution_count": null,
      "outputs": [
        {
          "output_type": "stream",
          "name": "stdout",
          "text": [
            "Puntuación para texto: \n",
            " 8.59\n",
            "Puntuación para don_quijote: \n",
            " 8.88\n",
            "Puntuación para nota: \n",
            " 7.99\n"
          ]
        }
      ]
    },
    {
      "cell_type": "markdown",
      "source": [
        "## [Puntuación de legibilidad McAlpine EFLAW](https://strainindex.wordpress.com/2009/04/30/mcalpine-eflaw-readability-score/)\n",
        "\n",
        "Devuelve una puntuación de la legibilidad de un texto en `inglés` para un estudiante extranjero o inglés, centrándose en el número de minipalabras y la longitud de sentencias."
      ],
      "metadata": {
        "id": "K-TcDLU1pd0t"
      }
    },
    {
      "cell_type": "code",
      "source": [
        "print(\"Puntuación para texto: \\n\", textstat.mcalpine_eflaw(texto), end=\"\\n\")\n",
        "print(\"Puntuación para don_quijote: \\n\", textstat.mcalpine_eflaw(don_quijote), end=\"\\n\")\n",
        "print(\"Puntuación para nota: \\n\", textstat.mcalpine_eflaw(nota), end=\"\\n\")"
      ],
      "metadata": {
        "colab": {
          "base_uri": "https://localhost:8080/"
        },
        "id": "tk9Yighi6hTm",
        "outputId": "9fecfa06-0f58-4a90-ab23-d1237ebf27a1"
      },
      "execution_count": null,
      "outputs": [
        {
          "output_type": "stream",
          "name": "stdout",
          "text": [
            "Puntuación para texto: \n",
            " 41.3\n",
            "Puntuación para don_quijote: \n",
            " 47.5\n",
            "Puntuación para nota: \n",
            " 33.5\n"
          ]
        }
      ]
    },
    {
      "cell_type": "markdown",
      "source": [
        "# Español"
      ],
      "metadata": {
        "id": "3DR3meCo8eCo"
      }
    },
    {
      "cell_type": "markdown",
      "source": [
        "## [Índice de lecturabilidad Fernandez-Huerta](https://legible.es/blog/lecturabilidad-fernandez-huerta/)\n",
        "\n",
        "Reformulación de la Fórmula de Facilidad de Lectura de Flesch específica para el español. Los resultados pueden interpretarse de forma similar"
      ],
      "metadata": {
        "id": "mo4s5-RD79VZ"
      }
    },
    {
      "cell_type": "code",
      "source": [
        "print(\"Puntuación para texto: \\n\", textstat.fernandez_huerta(texto), end=\"\\n\")\n",
        "print(\"Puntuación para don_quijote: \\n\", textstat.fernandez_huerta(don_quijote), end=\"\\n\")\n",
        "print(\"Puntuación para nota: \\n\", textstat.fernandez_huerta(nota), end=\"\\n\")"
      ],
      "metadata": {
        "colab": {
          "base_uri": "https://localhost:8080/"
        },
        "id": "wMsQdVpF8IdU",
        "outputId": "7f7f19c7-3aa5-418a-e4a8-a14728fc8d0f"
      },
      "execution_count": null,
      "outputs": [
        {
          "output_type": "stream",
          "name": "stdout",
          "text": [
            "Puntuación para texto: \n",
            " 68.95\n",
            "Puntuación para don_quijote: \n",
            " 83.18\n",
            "Puntuación para nota: \n",
            " 80.36\n"
          ]
        }
      ]
    },
    {
      "cell_type": "markdown",
      "source": [
        "## [Índice de perspicuidad de Szigriszt-Pazos](https://legible.es/blog/perspicuidad-szigriszt-pazos/)\n",
        "\n",
        "Adaptación de la fórmula Flesch Reading Ease para textos en español.\n",
        "\n",
        "Intenta cuantificar el grado de comprensión de un texto.\n"
      ],
      "metadata": {
        "id": "2OpcXehG8X9R"
      }
    },
    {
      "cell_type": "code",
      "source": [
        "print(\"Puntuación para texto: \\n\", textstat.szigriszt_pazos(texto), end=\"\\n\")\n",
        "print(\"Puntuación para don_quijote: \\n\", textstat.szigriszt_pazos(don_quijote), end=\"\\n\")\n",
        "print(\"Puntuación para nota: \\n\", textstat.szigriszt_pazos(nota), end=\"\\n\")"
      ],
      "metadata": {
        "colab": {
          "base_uri": "https://localhost:8080/"
        },
        "id": "f-kg6C518YfU",
        "outputId": "d7639356-20b9-4258-853b-36dd2a03a589"
      },
      "execution_count": null,
      "outputs": [
        {
          "output_type": "stream",
          "name": "stdout",
          "text": [
            "Puntuación para texto: \n",
            " 65.64\n",
            "Puntuación para don_quijote: \n",
            " 82.27\n",
            "Puntuación para nota: \n",
            " 75.11\n"
          ]
        }
      ]
    },
    {
      "cell_type": "markdown",
      "source": [
        "## [Fórmula de comprensibilidad de Gutiérrez de Polini](https://legible.es/blog/comprensibilidad-gutierrez-de-polini/)\n",
        "\n",
        "Devuelve el índice de comprensibilidad de Gutiérrez de Polini.\n",
        "\n",
        "Diseñado específicamente para los textos en español, no es una adaptación. Concebido para textos de nivel escolar.\n",
        "\n",
        "Las puntuaciones para textos más complejos no son fiables."
      ],
      "metadata": {
        "id": "dhSean4V9Kig"
      }
    },
    {
      "cell_type": "code",
      "source": [
        "print(\"Puntuación para texto: \\n\", textstat.gutierrez_polini(texto), end=\"\\n\")\n",
        "print(\"Puntuación para don_quijote: \\n\", textstat.gutierrez_polini(don_quijote), end=\"\\n\")\n",
        "print(\"Puntuación para nota: \\n\", textstat.gutierrez_polini(nota), end=\"\\n\")"
      ],
      "metadata": {
        "colab": {
          "base_uri": "https://localhost:8080/"
        },
        "id": "ijEMDyCJ9LDI",
        "outputId": "c23bf9db-91e4-475f-91e8-0903382021d9"
      },
      "execution_count": null,
      "outputs": [
        {
          "output_type": "stream",
          "name": "stdout",
          "text": [
            "Puntuación para texto: \n",
            " 31.36\n",
            "Puntuación para don_quijote: \n",
            " 38.97\n",
            "Puntuación para nota: \n",
            " 36.68\n"
          ]
        }
      ]
    },
    {
      "cell_type": "markdown",
      "source": [
        "## [Fórmula de Crawford](https://legible.es/blog/formula-de-crawford/)\n",
        "\n",
        "Devuelve la puntuación de Crawford para el texto.\n",
        "\n",
        "Devuelve una estimación de los años de escolarización necesarios para comprender el texto.\n",
        "\n",
        "Sólo es válida para textos de nivel de educación primaria.\n"
      ],
      "metadata": {
        "id": "G9qz_b6C9hjL"
      }
    },
    {
      "cell_type": "code",
      "source": [
        "print(\"Puntuación para texto: \\n\", textstat.crawford(texto), end=\"\\n\")\n",
        "print(\"Puntuación para don_quijote: \\n\", textstat.crawford(don_quijote), end=\"\\n\")\n",
        "print(\"Puntuación para nota: \\n\", textstat.crawford(nota), end=\"\\n\")"
      ],
      "metadata": {
        "colab": {
          "base_uri": "https://localhost:8080/"
        },
        "id": "JhLV4jdQ9iCg",
        "outputId": "b2d3c0f2-4001-40ad-961b-64be4189e89a"
      },
      "execution_count": null,
      "outputs": [
        {
          "output_type": "stream",
          "name": "stdout",
          "text": [
            "Puntuación para texto: \n",
            " 4.7\n",
            "Puntuación para don_quijote: \n",
            " 3.2\n",
            "Puntuación para nota: \n",
            " 4.2\n"
          ]
        }
      ]
    },
    {
      "cell_type": "markdown",
      "source": [
        "# Agregados y promedios"
      ],
      "metadata": {
        "id": "4O2Dy58Y-Tq1"
      }
    },
    {
      "cell_type": "markdown",
      "source": [
        "## [Tiempo de lectura](https://homepages.inf.ed.ac.uk/keller/papers/cognition08a.pdf)\n",
        "\n",
        "Devuelve el tiempo de lectura del texto dado.\n",
        "\n",
        "Supone 14,69 ms por carácter."
      ],
      "metadata": {
        "id": "IC9E9jS77Wef"
      }
    },
    {
      "cell_type": "code",
      "source": [
        "# recibe como parámetro el texto y el tiempo de lectura\n",
        "print(\"Tiempo en segundos para texto: \\n\", textstat.reading_time(texto), end=\"\\n\")\n",
        "print(\"Tiempo en segundos para don_quijote: \\n\", textstat.reading_time(don_quijote), end=\"\\n\")\n",
        "print(\"Tiempo en segundos para nota: \\n\", textstat.reading_time(nota), end=\"\\n\")"
      ],
      "metadata": {
        "colab": {
          "base_uri": "https://localhost:8080/"
        },
        "id": "Oh02rFJY7YFJ",
        "outputId": "c2a3a7fb-c669-4964-8370-b52a1a3f477a"
      },
      "execution_count": null,
      "outputs": [
        {
          "output_type": "stream",
          "name": "stdout",
          "text": [
            "Tiempo en segundos para texto: \n",
            " 9.94\n",
            "Tiempo en segundos para don_quijote: \n",
            " 4.63\n",
            "Tiempo en segundos para nota: \n",
            " 3.72\n"
          ]
        }
      ]
    },
    {
      "cell_type": "markdown",
      "source": [
        "## Recuento de sílabas\n",
        "\n",
        "Devuelve el número de sílabas presentes en el texto dado.\n",
        "\n",
        "Utiliza el módulo Pyphen de Python para el cálculo de sílabas."
      ],
      "metadata": {
        "id": "swu0ay7C-po5"
      }
    },
    {
      "cell_type": "code",
      "source": [
        "print(\"Valor para texto: \\n\", textstat.syllable_count(texto), end=\"\\n\")\n",
        "print(\"Valor para don_quijote: \\n\", textstat.syllable_count(don_quijote), end=\"\\n\")\n",
        "print(\"Valor para nota: \\n\", textstat.syllable_count(nota), end=\"\\n\")"
      ],
      "metadata": {
        "colab": {
          "base_uri": "https://localhost:8080/"
        },
        "id": "2f1gRc-Y-qYV",
        "outputId": "3339f316-b339-4c24-cd98-042e46203502"
      },
      "execution_count": null,
      "outputs": [
        {
          "output_type": "stream",
          "name": "stdout",
          "text": [
            "Valor para texto: \n",
            " 158\n",
            "Valor para don_quijote: \n",
            " 97\n",
            "Valor para nota: \n",
            " 83\n"
          ]
        }
      ]
    },
    {
      "cell_type": "markdown",
      "source": [
        "## Recuento de palabras\n",
        "\n",
        "Calcula el número de palabras presentes en el texto. El valor opcional removepunct especifica si es necesario tener en cuenta los símbolos de puntuación al realizar el recuento de léxicos. El valor por defecto es True, que elimina la puntuación antes de contar los elementos.\n"
      ],
      "metadata": {
        "id": "nod_jcVr_D_h"
      }
    },
    {
      "cell_type": "code",
      "source": [
        "print(\"Valor para texto: \\n\", textstat.lexicon_count(texto), end=\"\\n\")\n",
        "print(\"Valor para don_quijote: \\n\", textstat.lexicon_count(don_quijote), end=\"\\n\")\n",
        "print(\"Valor para nota: \\n\", textstat.lexicon_count(nota), end=\"\\n\")"
      ],
      "metadata": {
        "colab": {
          "base_uri": "https://localhost:8080/"
        },
        "id": "V6YL7j2y_Efj",
        "outputId": "a606b103-54a0-4e7d-b128-1290cd793bb4"
      },
      "execution_count": null,
      "outputs": [
        {
          "output_type": "stream",
          "name": "stdout",
          "text": [
            "Valor para texto: \n",
            " 88\n",
            "Valor para don_quijote: \n",
            " 66\n",
            "Valor para nota: \n",
            " 48\n",
            "48\n"
          ]
        }
      ]
    },
    {
      "cell_type": "markdown",
      "source": [
        "## Recuento de sentencias u oraciones\n",
        "\n",
        "Devuelve el número de sentencias presentes en el texto dado."
      ],
      "metadata": {
        "id": "D--8O_BG_jz9"
      }
    },
    {
      "cell_type": "code",
      "source": [
        "print(\"Valor para texto: \\n\", textstat.sentence_count(texto), end=\"\\n\")\n",
        "print(\"Valor para don_quijote: \\n\", textstat.sentence_count(don_quijote), end=\"\\n\")\n",
        "print(\"Valor para nota: \\n\", textstat.sentence_count(nota), end=\"\\n\")"
      ],
      "metadata": {
        "colab": {
          "base_uri": "https://localhost:8080/"
        },
        "id": "9eJjK5p0_kdn",
        "outputId": "ef1795be-9ff3-4f65-c97a-b6d3e5055576"
      },
      "execution_count": null,
      "outputs": [
        {
          "output_type": "stream",
          "name": "stdout",
          "text": [
            "Valor para texto: \n",
            " 3\n",
            "Valor para don_quijote: \n",
            " 2\n",
            "Valor para nota: \n",
            " 2\n"
          ]
        }
      ]
    },
    {
      "cell_type": "markdown",
      "source": [
        "## Recuento de caracteres\n",
        "\n",
        "Devuelve el número de caracteres presentes en el texto dado. Se le puede pasar el parámetro ignore_spaces para ignorar los espacios, por defecto es True.\n"
      ],
      "metadata": {
        "id": "IFxgl3hY_1b5"
      }
    },
    {
      "cell_type": "code",
      "source": [
        "print(\"Valor para texto: \\n\", textstat.char_count(texto), end=\"\\n\")\n",
        "print(\"Valor para don_quijote: \\n\", textstat.char_count(don_quijote), end=\"\\n\")\n",
        "print(\"Valor para nota: \\n\", textstat.char_count(nota), end=\"\\n\")"
      ],
      "metadata": {
        "colab": {
          "base_uri": "https://localhost:8080/"
        },
        "id": "J8eLKbRq_2B2",
        "outputId": "aa74798a-1ce8-4849-a9dd-3521ec34a01a"
      },
      "execution_count": null,
      "outputs": [
        {
          "output_type": "stream",
          "name": "stdout",
          "text": [
            "Valor para texto: \n",
            " 497\n",
            "Valor para don_quijote: \n",
            " 315\n",
            "Valor para nota: \n",
            " 253\n"
          ]
        }
      ]
    },
    {
      "cell_type": "markdown",
      "source": [
        "## Recuento de letras\n",
        "\n",
        "Devuelve el número de caracteres presentes en el texto dado sin puntuación. Se le puede pasar el parámetro ignore_spaces para ignorar los espacios, por defecto es True.\n"
      ],
      "metadata": {
        "id": "ZEg96_c4AUWe"
      }
    },
    {
      "cell_type": "code",
      "source": [
        "print(\"Valor para texto: \\n\", textstat.letter_count(texto), end=\"\\n\")\n",
        "print(\"Valor para don_quijote: \\n\", textstat.letter_count(don_quijote), end=\"\\n\")\n",
        "print(\"Valor para nota: \\n\", textstat.letter_count(nota), end=\"\\n\")"
      ],
      "metadata": {
        "colab": {
          "base_uri": "https://localhost:8080/"
        },
        "id": "twxWaDRQAVUD",
        "outputId": "5f44cdd5-fddd-4e32-d50e-1edf7ed29720"
      },
      "execution_count": null,
      "outputs": [
        {
          "output_type": "stream",
          "name": "stdout",
          "text": [
            "Valor para texto: \n",
            " 486\n",
            "Valor para don_quijote: \n",
            " 304\n",
            "Valor para nota: \n",
            " 248\n"
          ]
        }
      ]
    },
    {
      "cell_type": "markdown",
      "source": [
        "## Recuento de polisílabos\n",
        "\n",
        "Devuelve el número de palabras con un número de sílabas mayor o igual a 3.\n"
      ],
      "metadata": {
        "id": "NHQjyU9l7QGd"
      }
    },
    {
      "cell_type": "code",
      "source": [
        "print(\"Valor para texto: \\n\", textstat.polysyllabcount(texto), end=\"\\n\")\n",
        "print(\"Valor para don_quijote: \\n\", textstat.polysyllabcount(don_quijote), end=\"\\n\")\n",
        "print(\"Valor para nota: \\n\", textstat.polysyllabcount(nota), end=\"\\n\")"
      ],
      "metadata": {
        "colab": {
          "base_uri": "https://localhost:8080/"
        },
        "id": "JnxoqTz4ApMU",
        "outputId": "403651f8-8227-4a26-8929-8fee3dd2ec8e"
      },
      "execution_count": null,
      "outputs": [
        {
          "output_type": "stream",
          "name": "stdout",
          "text": [
            "Valor para texto: \n",
            " 19\n",
            "Valor para don_quijote: \n",
            " 5\n",
            "Valor para nota: \n",
            " 10\n"
          ]
        }
      ]
    },
    {
      "cell_type": "markdown",
      "source": [
        "## Recuento de monosílabos\n",
        "\n",
        "Devuelve el número de palabras con un recuento de sílabas igual a uno."
      ],
      "metadata": {
        "id": "c13A7c_WAz1L"
      }
    },
    {
      "cell_type": "code",
      "source": [
        "print(\"Valor para texto: \\n\", textstat.monosyllabcount(texto), end=\"\\n\")\n",
        "print(\"Valor para don_quijote: \\n\", textstat.monosyllabcount(don_quijote), end=\"\\n\")\n",
        "print(\"Valor para nota: \\n\", textstat.monosyllabcount(nota), end=\"\\n\")"
      ],
      "metadata": {
        "colab": {
          "base_uri": "https://localhost:8080/"
        },
        "id": "DKS-mQPiA0KD",
        "outputId": "983d413d-f936-446e-f23f-f454faeadbdc"
      },
      "execution_count": null,
      "outputs": [
        {
          "output_type": "stream",
          "name": "stdout",
          "text": [
            "Valor para texto: \n",
            " 47\n",
            "Valor para don_quijote: \n",
            " 40\n",
            "Valor para nota: \n",
            " 27\n"
          ]
        }
      ]
    }
  ]
}