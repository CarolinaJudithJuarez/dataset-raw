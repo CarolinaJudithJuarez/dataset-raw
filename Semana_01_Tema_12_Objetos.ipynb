{
  "nbformat": 4,
  "nbformat_minor": 0,
  "metadata": {
    "colab": {
      "provenance": []
    },
    "kernelspec": {
      "name": "python3",
      "display_name": "Python 3"
    },
    "language_info": {
      "name": "python"
    }
  },
  "cells": [
    {
      "cell_type": "markdown",
      "source": [
        "# Clases y Objetos\n",
        "\n",
        "* Una clase es una combinación específica de atributos y métodos, es decir, es una especie de plantilla.\n",
        "* Un objeto es una clase en memoria durante la ejecución de un programa.\n"
      ],
      "metadata": {
        "id": "HIz5gY6zqznq"
      }
    },
    {
      "cell_type": "code",
      "source": [
        "# definición de clase\n",
        "class Persona():\n",
        "#              cls\n",
        "  def __init__(self, nombre:str, apellido:str, edad:int):\n",
        "    \"\"\" Constructor de la clase Persona.\n",
        "\n",
        "    Args:\n",
        "      nombre (str): Nombre de la persona.\n",
        "      apellido (str): Apellido de la persona.\n",
        "      edad (int): Edad de la persona.\n",
        "    \"\"\"\n",
        "    self.nombre = nombre\n",
        "    self.apellido = apellido\n",
        "    self.edad = edad\n",
        "\n",
        "  def obtener_nombre_completo(self) -> str:\n",
        "    return f\"{self.nombre} {self.apellido}\"\n",
        "\n",
        "  def __str__(self) -> str:\n",
        "    \"\"\" Sobrecarga de la función para transformalo a un string.\n",
        "    \"\"\"\n",
        "    return f\"Nombre y Apellido: {self.nombre} {self.apellido}\\n\" \\\n",
        "      + f\"Edad: {self.edad}\""
      ],
      "metadata": {
        "id": "6NivShf98fHx"
      },
      "execution_count": null,
      "outputs": []
    },
    {
      "cell_type": "code",
      "execution_count": null,
      "metadata": {
        "colab": {
          "base_uri": "https://localhost:8080/"
        },
        "id": "A7x6DDiX8LFL",
        "outputId": "110dcae5-53f9-45a8-8c0d-7c6270165afb"
      },
      "outputs": [
        {
          "output_type": "stream",
          "name": "stdout",
          "text": [
            "Nombre y Apellido: Pepe Grillo\n",
            "Edad: 19\n"
          ]
        }
      ],
      "source": [
        "persona = Persona(nombre=\"Pepe\", apellido=\"Grillo\", edad=19)\n",
        "print(persona)"
      ]
    },
    {
      "cell_type": "code",
      "source": [
        "persona.edad = 21\n",
        "print(persona)"
      ],
      "metadata": {
        "colab": {
          "base_uri": "https://localhost:8080/"
        },
        "id": "dQaUvDdJ-DV6",
        "outputId": "c76cb935-331b-419a-9210-56c490fed2a9"
      },
      "execution_count": null,
      "outputs": [
        {
          "output_type": "stream",
          "name": "stdout",
          "text": [
            "Nombre y Apellido: Pepe Grillo\n",
            "Edad: 21\n"
          ]
        }
      ]
    },
    {
      "cell_type": "code",
      "source": [
        "# herencia de clases\n",
        "class Estudiante(Persona):\n",
        "\n",
        "  def __init__(self, nombre:str, apellido:str, edad:int, universidad:str):\n",
        "    \"\"\" Constructor de la clase Persona.\n",
        "\n",
        "    Args:\n",
        "      nombre (str): Nombre de la persona.\n",
        "      apellido (str): Apellido de la persona.\n",
        "      edad (int): Edad de la persona.\n",
        "      universidad (str): Nombre de la universidad.\n",
        "    \"\"\"\n",
        "    super().__init__(nombre=nombre, apellido=apellido, edad=edad)\n",
        "    self.universidad:str=universidad\n",
        "\n",
        "  def __str__(self) -> str:\n",
        "    \"\"\" Sobrecarga de la función para transformalo a un string.\n",
        "    \"\"\"\n",
        "    return super().__str__() + \"\\n\" \\\n",
        "      + f\"Universidad: {self.universidad}\""
      ],
      "metadata": {
        "id": "g7oTywAj-MtH"
      },
      "execution_count": null,
      "outputs": []
    },
    {
      "cell_type": "code",
      "source": [
        "estudiante = Estudiante(nombre=\"Pepe\", apellido=\"Grillo\", edad=19, universidad=\"UGR\")\n",
        "print(estudiante)"
      ],
      "metadata": {
        "colab": {
          "base_uri": "https://localhost:8080/"
        },
        "id": "Tq8S6-D9_Lxl",
        "outputId": "080b6f96-59d6-446a-d47d-be45b80a7e3c"
      },
      "execution_count": null,
      "outputs": [
        {
          "output_type": "stream",
          "name": "stdout",
          "text": [
            "Nombre y Apellido: Pepe Grillo\n",
            "Edad: 19\n",
            "Universidad: UGR\n"
          ]
        }
      ]
    },
    {
      "cell_type": "code",
      "source": [
        "from typing import Union\n",
        "from datetime import datetime\n",
        "# propiedades privadas\n",
        "class Licenciado(Estudiante):\n",
        "  anio_egreso:Union[int,None]=None\n",
        "  __hora_creacion:datetime=datetime.now()\n",
        "\n",
        "  def obtener_hora_creacion(self)->datetime:\n",
        "    \"\"\" Devuelve la hora de creación\n",
        "\n",
        "    Returns:\n",
        "      datetime: Hora de creación del objeto.\n",
        "    \"\"\"\n",
        "    return self.__hora_creacion\n",
        "\n",
        "  def __str__(self) -> str:\n",
        "    \"\"\" Sobrecarga de la función para transformalo a un string.\n",
        "    \"\"\"\n",
        "    return super().__str__() + \"\\n\" \\\n",
        "      + f\"Año Egreso: {self.anio_egreso}\\n\" \\\n",
        "      + f\"Hora Creación Objeto: {self.__hora_creacion}\""
      ],
      "metadata": {
        "id": "sSTaFy9sBZvm"
      },
      "execution_count": null,
      "outputs": []
    },
    {
      "cell_type": "code",
      "source": [
        "licenciado = Licenciado(nombre=\"Pepe\", apellido=\"Grillo\", edad=19, universidad=\"UGR\")\n",
        "licenciado.anio_egreso=2023\n",
        "print(licenciado)\n",
        "print(\"---\")\n",
        "print(f\"Muestra hora de creación del objeto: {licenciado.obtener_hora_creacion()}\")"
      ],
      "metadata": {
        "colab": {
          "base_uri": "https://localhost:8080/"
        },
        "id": "uVdb-NupBjQt",
        "outputId": "268c17e9-e386-4867-9fb9-09dd1962ad57"
      },
      "execution_count": null,
      "outputs": [
        {
          "output_type": "stream",
          "name": "stdout",
          "text": [
            "Nombre y Apellido: Pepe Grillo\n",
            "Edad: 19\n",
            "Universidad: UGR\n",
            "Año Egreso: 2023\n",
            "Hora Creación Objeto: 2023-02-22 10:49:00.737644\n",
            "---\n",
            "Muestra hora de creación del objeto: 2023-02-22 10:49:00.737644\n"
          ]
        }
      ]
    },
    {
      "cell_type": "code",
      "source": [
        "print(f\"hora creación: {licenciado.__hora_creacion}\")"
      ],
      "metadata": {
        "colab": {
          "base_uri": "https://localhost:8080/",
          "height": 171
        },
        "id": "10N19itNvt3f",
        "outputId": "875592be-da9c-46da-fad8-c1f40a35c1b0"
      },
      "execution_count": null,
      "outputs": [
        {
          "output_type": "error",
          "ename": "AttributeError",
          "evalue": "ignored",
          "traceback": [
            "\u001b[0;31m---------------------------------------------------------------------------\u001b[0m",
            "\u001b[0;31mAttributeError\u001b[0m                            Traceback (most recent call last)",
            "\u001b[0;32m<ipython-input-8-2c7b4a557df1>\u001b[0m in \u001b[0;36m<module>\u001b[0;34m\u001b[0m\n\u001b[0;32m----> 1\u001b[0;31m \u001b[0mprint\u001b[0m\u001b[0;34m(\u001b[0m\u001b[0;34mf\"hora creación: {licenciado.__hora_creacion}\"\u001b[0m\u001b[0;34m)\u001b[0m\u001b[0;34m\u001b[0m\u001b[0;34m\u001b[0m\u001b[0m\n\u001b[0m",
            "\u001b[0;31mAttributeError\u001b[0m: 'Licenciado' object has no attribute '__hora_creacion'"
          ]
        }
      ]
    },
    {
      "cell_type": "code",
      "source": [
        "print(f\"propiedades del objeto: {list(licenciado.__dict__.keys())}\")\n",
        "print(\"---\")\n",
        "licenciado.promedio = 8.95\n",
        "print(licenciado)\n",
        "print(f\"promedio: {licenciado.promedio}\")\n",
        "print(\"---\")\n",
        "print(f\"propiedades del objeto: {list(licenciado.__dict__.keys())}\")"
      ],
      "metadata": {
        "colab": {
          "base_uri": "https://localhost:8080/"
        },
        "id": "k86eVxvOi6yu",
        "outputId": "8d7ce6ab-3cc7-4f24-9927-73a456f91cf2"
      },
      "execution_count": null,
      "outputs": [
        {
          "output_type": "stream",
          "name": "stdout",
          "text": [
            "propiedades del objeto: ['nombre', 'apellido', 'edad', 'universidad', 'anio_egreso']\n",
            "---\n",
            "Nombre y Apellido: Pepe Grillo\n",
            "Edad: 19\n",
            "Universidad: UGR\n",
            "Año Egreso: 2023\n",
            "Hora Creación Objeto: 2023-02-22 10:49:00.737644\n",
            "promedio: 8.95\n",
            "---\n",
            "propiedades del objeto: ['nombre', 'apellido', 'edad', 'universidad', 'anio_egreso', 'promedio']\n"
          ]
        }
      ]
    },
    {
      "cell_type": "code",
      "source": [
        "del licenciado.anio_egreso"
      ],
      "metadata": {
        "id": "llJ0kGo1hnDX"
      },
      "execution_count": null,
      "outputs": []
    },
    {
      "cell_type": "code",
      "source": [
        "print(f\"propiedades del objeto: {list(licenciado.__dict__.keys())}\")\n",
        "print(\"---\")\n",
        "print(licenciado)"
      ],
      "metadata": {
        "colab": {
          "base_uri": "https://localhost:8080/"
        },
        "id": "Q__LHYZMh02O",
        "outputId": "749c326b-ef6c-43f7-a3bb-64bf2f39c966"
      },
      "execution_count": null,
      "outputs": [
        {
          "output_type": "stream",
          "name": "stdout",
          "text": [
            "propiedades del objeto: ['nombre', 'apellido', 'edad', 'universidad', 'promedio']\n",
            "---\n",
            "Nombre y Apellido: Pepe Grillo\n",
            "Edad: 19\n",
            "Universidad: UGR\n",
            "Año Egreso: None\n",
            "Hora Creación Objeto: 2023-02-22 10:49:00.737644\n"
          ]
        }
      ]
    },
    {
      "cell_type": "code",
      "source": [
        "del licenciado.universidad"
      ],
      "metadata": {
        "id": "9JhJPbbzh_du"
      },
      "execution_count": null,
      "outputs": []
    },
    {
      "cell_type": "code",
      "source": [
        "print(f\"propiedades del objeto: {list(licenciado.__dict__.keys())}\")\n",
        "print(\"---\")\n",
        "print(licenciado)"
      ],
      "metadata": {
        "colab": {
          "base_uri": "https://localhost:8080/",
          "height": 360
        },
        "id": "bGbREJkjiCEc",
        "outputId": "3e0b238c-3614-494c-a512-e793fc3141f0"
      },
      "execution_count": null,
      "outputs": [
        {
          "output_type": "stream",
          "name": "stdout",
          "text": [
            "propiedades del objeto: ['nombre', 'apellido', 'edad', 'promedio']\n",
            "---\n"
          ]
        },
        {
          "output_type": "error",
          "ename": "AttributeError",
          "evalue": "ignored",
          "traceback": [
            "\u001b[0;31m---------------------------------------------------------------------------\u001b[0m",
            "\u001b[0;31mAttributeError\u001b[0m                            Traceback (most recent call last)",
            "\u001b[0;32m<ipython-input-13-f1c0a6f2973c>\u001b[0m in \u001b[0;36m<module>\u001b[0;34m\u001b[0m\n\u001b[1;32m      1\u001b[0m \u001b[0mprint\u001b[0m\u001b[0;34m(\u001b[0m\u001b[0;34mf\"propiedades del objeto: {list(licenciado.__dict__.keys())}\"\u001b[0m\u001b[0;34m)\u001b[0m\u001b[0;34m\u001b[0m\u001b[0;34m\u001b[0m\u001b[0m\n\u001b[1;32m      2\u001b[0m \u001b[0mprint\u001b[0m\u001b[0;34m(\u001b[0m\u001b[0;34m\"---\"\u001b[0m\u001b[0;34m)\u001b[0m\u001b[0;34m\u001b[0m\u001b[0;34m\u001b[0m\u001b[0m\n\u001b[0;32m----> 3\u001b[0;31m \u001b[0mprint\u001b[0m\u001b[0;34m(\u001b[0m\u001b[0mlicenciado\u001b[0m\u001b[0;34m)\u001b[0m\u001b[0;34m\u001b[0m\u001b[0;34m\u001b[0m\u001b[0m\n\u001b[0m",
            "\u001b[0;32m<ipython-input-6-c12ea28e1aa0>\u001b[0m in \u001b[0;36m__str__\u001b[0;34m(self)\u001b[0m\n\u001b[1;32m     17\u001b[0m     \"\"\" Sobrecarga de la función para transformalo a un string.\n\u001b[1;32m     18\u001b[0m     \"\"\"\n\u001b[0;32m---> 19\u001b[0;31m     \u001b[0;32mreturn\u001b[0m \u001b[0msuper\u001b[0m\u001b[0;34m(\u001b[0m\u001b[0;34m)\u001b[0m\u001b[0;34m.\u001b[0m\u001b[0m__str__\u001b[0m\u001b[0;34m(\u001b[0m\u001b[0;34m)\u001b[0m \u001b[0;34m+\u001b[0m \u001b[0;34m\"\\n\"\u001b[0m\u001b[0;31m \u001b[0m\u001b[0;31m\\\u001b[0m\u001b[0;34m\u001b[0m\u001b[0;34m\u001b[0m\u001b[0m\n\u001b[0m\u001b[1;32m     20\u001b[0m       \u001b[0;34m+\u001b[0m \u001b[0;34mf\"Año Egreso: {self.anio_egreso}\\n\"\u001b[0m\u001b[0;31m \u001b[0m\u001b[0;31m\\\u001b[0m\u001b[0;34m\u001b[0m\u001b[0;34m\u001b[0m\u001b[0m\n\u001b[1;32m     21\u001b[0m       \u001b[0;34m+\u001b[0m \u001b[0;34mf\"Hora Creación Objeto: {self.__hora_creacion}\"\u001b[0m\u001b[0;34m\u001b[0m\u001b[0;34m\u001b[0m\u001b[0m\n",
            "\u001b[0;32m<ipython-input-4-10f96216c23c>\u001b[0m in \u001b[0;36m__str__\u001b[0;34m(self)\u001b[0m\n\u001b[1;32m     18\u001b[0m     \"\"\"\n\u001b[1;32m     19\u001b[0m     \u001b[0;32mreturn\u001b[0m \u001b[0msuper\u001b[0m\u001b[0;34m(\u001b[0m\u001b[0;34m)\u001b[0m\u001b[0;34m.\u001b[0m\u001b[0m__str__\u001b[0m\u001b[0;34m(\u001b[0m\u001b[0;34m)\u001b[0m \u001b[0;34m+\u001b[0m \u001b[0;34m\"\\n\"\u001b[0m\u001b[0;31m \u001b[0m\u001b[0;31m\\\u001b[0m\u001b[0;34m\u001b[0m\u001b[0;34m\u001b[0m\u001b[0m\n\u001b[0;32m---> 20\u001b[0;31m       \u001b[0;34m+\u001b[0m \u001b[0;34mf\"Universidad: {self.universidad}\"\u001b[0m\u001b[0;34m\u001b[0m\u001b[0;34m\u001b[0m\u001b[0m\n\u001b[0m",
            "\u001b[0;31mAttributeError\u001b[0m: 'Licenciado' object has no attribute 'universidad'"
          ]
        }
      ]
    }
  ]
}